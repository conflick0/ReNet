{
 "cells": [
  {
   "cell_type": "markdown",
   "metadata": {},
   "source": [
    "Labeling image objects "
   ]
  },
  {
   "cell_type": "code",
   "execution_count": 3,
   "metadata": {},
   "outputs": [
    {
     "name": "stdout",
     "output_type": "stream",
     "text": [
      "Number of Connected Components = 13\n"
     ]
    },
    {
     "data": {
      "text/plain": [
       "True"
      ]
     },
     "execution_count": 3,
     "metadata": {},
     "output_type": "execute_result"
    }
   ],
   "source": [
    "import numpy as np\n",
    "import cv2\n",
    "\n",
    "img1 = cv2.imread( \"ABC.bmp\", -1 )\n",
    "n, labels = cv2.connectedComponents( img1 )\n",
    "print( \"Number of Connected Components =\", n )\n",
    "cv2.normalize( labels, labels, 0, 255, cv2.NORM_MINMAX )\n",
    "img2 = np.uint8( labels )\n",
    "cv2.imwrite( \"ABC_labeling.bmp\",  img2 )\n"
   ]
  },
  {
   "cell_type": "markdown",
   "metadata": {},
   "source": [
    "Contours finding <p>\n",
    "<font color=\"Red\">請找出 cv2.drawContours 中，色彩的定義？</font> <p>    "
   ]
  },
  {
   "cell_type": "code",
   "execution_count": 15,
   "metadata": {},
   "outputs": [
    {
     "data": {
      "text/plain": [
       "True"
      ]
     },
     "execution_count": 15,
     "metadata": {},
     "output_type": "execute_result"
    }
   ],
   "source": [
    "import numpy as np\n",
    "import cv2\n",
    "\n",
    "img1 = cv2.imread( \"Shapes.bmp\", 0 )\n",
    "img2 = cv2.cvtColor( img1, cv2.COLOR_GRAY2BGR )\n",
    "binary, contours, hierarchy = cv2.findContours( img1, cv2.RETR_EXTERNAL, cv2.CHAIN_APPROX_NONE )\n",
    "cv2.drawContours( img2, contours, -1, ( 128, 128, 128 ), thickness = 5 )\n",
    "cv2.imwrite( \"Shapes_contour.bmp\", img2 )\n"
   ]
  },
  {
   "cell_type": "markdown",
   "metadata": {},
   "source": [
    "Shape features"
   ]
  },
  {
   "cell_type": "code",
   "execution_count": 7,
   "metadata": {},
   "outputs": [
    {
     "name": "stdout",
     "output_type": "stream",
     "text": [
      "Please Object No. = 3\n",
      "Area = 9285\n",
      "Geometric Center = 346.47291330102314 , 352.5211631663974\n",
      "Compactness = 28.675928917609045\n",
      "Circularity = 0.7587506731287023\n"
     ]
    }
   ],
   "source": [
    "import numpy as np\n",
    "import cv2\n",
    "\n",
    "def shape_feature( f, method ):\n",
    "    nr, nc = f.shape[:2]\n",
    "    if method == 1:    # Area\n",
    "        return np.count_nonzero( f )\n",
    "    if method == 2:    # Geometric Center\n",
    "        nr, nc = f.shape[:2]\n",
    "        xc = yc = 0\n",
    "        area = 0\n",
    "        for x in range( nr ):\n",
    "            for y in range( nc ):\n",
    "                if f[x,y] != 0:\n",
    "                    xc += x\n",
    "                    yc += y\n",
    "                    area += 1\n",
    "        xc /= area\n",
    "        yc /= area\n",
    "        return xc, yc\n",
    "    if method == 3:    # Compactness\n",
    "        area = 0\n",
    "        p = 0\n",
    "        for x in range( 1, nr - 1 ):\n",
    "            for y in range( 1, nc -1 ):\n",
    "                if f[x,y] != 0:\n",
    "                    area += 1\n",
    "                    if ( f[x-1,y] == 0 or f[x+1,y] == 0 or\n",
    "                        f[x,y-1] == 0 or f[x+1,y] == 0 ):\n",
    "                        p += 1\n",
    "        return ( p * p ) / area\t\n",
    "    if method == 4:    # Circularity\n",
    "        area = shape_feature( f, 1 )\n",
    "        xc, yc = shape_feature( f, 2 )\n",
    "        radius = np.sqrt( area / np.pi )\n",
    "        n = 0\n",
    "        for x in range( nr ):\n",
    "            for y in range( nc ):\n",
    "                if f[x,y] != 0:\n",
    "                    if (x-xc)**2 + (y-yc) ** 2  < radius*radius:\n",
    "                       n += 1 \n",
    "        return n / area   \n",
    "    return 0\n",
    "\n",
    "def extract_object( f, label ):\n",
    "    n, labels = cv2.connectedComponents( f )\n",
    "    g = f.copy( )\n",
    "    nr, nc = f.shape[:2]\n",
    "    for x in range( nr ):\n",
    "        for y in range( nc ):\n",
    "            if labels[x,y] == label:\n",
    "                g[x,y] = 255\n",
    "            else:\n",
    "                g[x,y] = 0\n",
    "    return g\n",
    "\n",
    "def main( ):\n",
    "    number = eval( input( \"Please Object No. = \" ) )\n",
    "    img1 = cv2.imread( \"Shapes.bmp\", -1 )\n",
    "    img2 = extract_object( img1, number )\n",
    "    area = shape_feature( img2, 1 )\n",
    "    xc, yc = shape_feature( img2, 2 )\n",
    "    compactness = shape_feature( img2, 3 )\n",
    "    circularity = shape_feature( img2, 4 )\n",
    "    print( \"Area =\", area )\n",
    "    print( \"Geometric Center =\", xc, \",\", yc )\n",
    "    print( \"Compactness =\", compactness )\n",
    "    print( \"Circularity =\", circularity )\n",
    "    cv2.imwrite( \"Shaped_ex_fe.bmp\", img2 )\t\n",
    "\n",
    "main( )"
   ]
  },
  {
   "cell_type": "markdown",
   "metadata": {},
   "source": [
    "Polygon Approximation <p>\n",
    "    cv2.findContours 引用參數參考 <p>\n",
    "    https://www.itread01.com/content/1547184614.html"
   ]
  },
  {
   "cell_type": "code",
   "execution_count": 26,
   "metadata": {},
   "outputs": [
    {
     "name": "stdout",
     "output_type": "stream",
     "text": [
      "Please enter epislon:10\n"
     ]
    }
   ],
   "source": [
    "import numpy as np\n",
    "import cv2\n",
    "\n",
    "def polygon_approximation( f, epislon ):\n",
    "    g = f.copy( )\n",
    "    nr, nc = f.shape[:2]\n",
    "    _, contours, hierarchy = cv2.findContours(f, cv2.RETR_EXTERNAL, cv2.CHAIN_APPROX_NONE)\n",
    "\n",
    "    #_, contours, hierarchy = cv2.findContours(f,cv2.RETR_TREE,cv2.CHAIN_APPROX_SIMPLE)\n",
    "    approx = cv2.approxPolyDP( contours[0], epislon, True )\n",
    "    for x in range( nr ):\n",
    "        for y in range( nc ):\n",
    "            if f[x,y] != 0:\n",
    "                g[x,y] = 100\n",
    "    cv2.drawContours( g, [approx], -1, ( 255, 255, 255 ) )\n",
    "    return g\n",
    "\n",
    "def main( ):\n",
    "    epislon = eval( input( \"Please enter epislon:\" ) )\n",
    "    img1 = cv2.imread( \"Bug.bmp\", 0 )\n",
    "    img2 = polygon_approximation( img1, epislon )\n",
    "    cv2.imwrite( \"Bug_polygon.bmp\", img2 )\n",
    "\n",
    "main( )"
   ]
  },
  {
   "cell_type": "markdown",
   "metadata": {},
   "source": [
    "Fourier Descriptor"
   ]
  },
  {
   "cell_type": "code",
   "execution_count": 28,
   "metadata": {},
   "outputs": [
    {
     "name": "stdout",
     "output_type": "stream",
     "text": [
      "Please enter threshold(%):2\n",
      "3050\n"
     ]
    }
   ],
   "source": [
    "import numpy as np\n",
    "import cv2\n",
    "from numpy.fft import fft, ifft\n",
    "\n",
    "def fourier_descriptor( f, thresh ):\n",
    "    g = f.copy( )\n",
    "    nr, nc = f.shape[:2]\n",
    "    _, contours, hierarchy = cv2.findContours( f, cv2.RETR_EXTERNAL, cv2.CHAIN_APPROX_NONE )\n",
    "    contour = np.vstack( contours ).squeeze( )\n",
    "    N = len( contour )\n",
    "    print( N )\n",
    "    s_arr = np.zeros( N, dtype = 'complex' )\n",
    "    for n in range( N ):\n",
    "        s_arr[n] = complex( contour[n][1], contour[n][0] )\n",
    "    S_arr = fft( s_arr )\n",
    "    thresh /= 100\n",
    "    thresh = int( round( N / 2 * thresh ) )\n",
    "    for k in range( thresh, N - thresh ):\n",
    "        S_arr[k] = 0\n",
    "    s_arr = ifft( S_arr )\n",
    "    for x in range( nr ):\n",
    "        for y in range( nc ):\n",
    "            if f[x,y] != 0:\n",
    "                g[x,y] = 100\n",
    "    for n in range( N ):\n",
    "        x = int( round( s_arr[n].real ) )\n",
    "        y = int( round( s_arr[n].imag ) )\n",
    "        g[x,y] = 255\n",
    "    return g\n",
    "\n",
    "def main( ):\n",
    "    thresh = eval( input( \"Please enter threshold(%):\"))\n",
    "    img1 = cv2.imread( \"Bug.bmp\", 0 )\n",
    "    img2 = fourier_descriptor( img1, thresh )\n",
    "    cv2.imwrite( \"Bug_Fourier.bmp\", img2 )\n",
    "\n",
    "main( )"
   ]
  },
  {
   "cell_type": "markdown",
   "metadata": {},
   "source": [
    "Convex Hull"
   ]
  },
  {
   "cell_type": "code",
   "execution_count": 30,
   "metadata": {},
   "outputs": [],
   "source": [
    "import numpy as np\n",
    "import cv2\n",
    "\n",
    "def convex_hull( f ):\n",
    "    g = f.copy( )\n",
    "    nr, nc = f.shape[:2]\n",
    "    _, contours, hierarchy = cv2.findContours( f, cv2.RETR_EXTERNAL, cv2.CHAIN_APPROX_NONE )\n",
    "    hull = []\n",
    "    for i in range( len( contours ) ):\n",
    "        hull.append( cv2.convexHull( contours[i], False ) )\n",
    "    for x in range( nr ):\n",
    "        for y in range( nc ):\n",
    "            if f[x,y] != 0:\n",
    "                g[x,y] = 100\n",
    "    cv2.drawContours( g, contours, -1, ( 255, 255, 255 ), 1, 8 )\n",
    "    cv2.drawContours( g, hull, -1, ( 255, 255, 255 ), 2, 8 )\n",
    "    return g\n",
    "\n",
    "def main( ):\n",
    "    img1 = cv2.imread( \"Hand.bmp\", 0 )\n",
    "    img2 = convex_hull( img1 )\n",
    "    cv2.imwrite( \"Hand.Convex.bmp\", img2 )\n",
    "\n",
    "\n",
    "main( )"
   ]
  },
  {
   "cell_type": "markdown",
   "metadata": {},
   "source": [
    "Convexity Defects"
   ]
  },
  {
   "cell_type": "code",
   "execution_count": 31,
   "metadata": {},
   "outputs": [],
   "source": [
    "import cv2\n",
    "import numpy as np\n",
    "\n",
    "def convexity_defects( f ):\n",
    "    g = f.copy( )\n",
    "    nr, nc = f.shape[:2]\n",
    "    _, contours, hierarchy = cv2.findContours( f, cv2.RETR_EXTERNAL, cv2.CHAIN_APPROX_NONE )\n",
    "    cnt = contours[0]\n",
    "    hull = cv2.convexHull( cnt,returnPoints = False)\n",
    "    defects = cv2.convexityDefects( cnt, hull )\n",
    "    for x in range( nr ):\n",
    "        for y in range( nc ):\n",
    "            if f[x,y] != 0:\n",
    "                g[x,y] = 100\n",
    "    for i in range(defects.shape[0]):\n",
    "        s,e,f,d = defects[i,0]\n",
    "        start = tuple( cnt[s][0] )\n",
    "        end = tuple( cnt[e][0] )\n",
    "        far = tuple( cnt[f][0] )\n",
    "        cv2.line( g, start, end, ( 255,255,255 ), 1 )\n",
    "        cv2.circle( g, far, 5, ( 255,255,255 ), -1 )\n",
    "    return g\n",
    "\n",
    "def main( ):\n",
    "    img1 = cv2.imread( \"Hand.bmp\", -1 )\n",
    "    img2 = convexity_defects( img1 )\n",
    "    cv2.imwrite( \"Hand_COnverity.bmp\", img2 )\n",
    "\n",
    "main( )"
   ]
  },
  {
   "cell_type": "markdown",
   "metadata": {},
   "source": [
    "Harris Corner Detection"
   ]
  },
  {
   "cell_type": "code",
   "execution_count": 32,
   "metadata": {},
   "outputs": [],
   "source": [
    "import numpy as np\n",
    "import cv2\n",
    "\n",
    "def harris_corner_detection( f ):\n",
    "    g = cv2.cvtColor( f, cv2.COLOR_GRAY2BGR )\n",
    "    nr, nc = f.shape[:2]\n",
    "    gray = np.float32( f )\n",
    "    dst = cv2.cornerHarris( gray, 2, 3, 0.04 )\n",
    "    for x in range( nr ):\n",
    "        for y in range( nc ):\n",
    "            if dst[x,y] > 0.1 * dst.max():\n",
    "                cv2.circle( g, (y,x), 5, [255,0,0], 2 )\n",
    "    return g\n",
    "\n",
    "def main( ):\n",
    "    img1 = cv2.imread( \"Blox.bmp\", 0 )\n",
    "    img2 = harris_corner_detection( img1 )\n",
    "    cv2.imwrite(\"Blox_Harris.bmp\", img2 )\n",
    "\n",
    "main( )"
   ]
  },
  {
   "cell_type": "markdown",
   "metadata": {},
   "source": [
    "Face Detection"
   ]
  },
  {
   "cell_type": "code",
   "execution_count": 1,
   "metadata": {},
   "outputs": [],
   "source": [
    "import numpy as np\n",
    "import cv2\n",
    "\n",
    "def face_detection( f ):\n",
    "    g = f.copy( )\n",
    "    gray = cv2.cvtColor( f, cv2.COLOR_BGR2GRAY )\n",
    "    face_cascade = cv2.CascadeClassifier( 'haarcascade_frontalface_default.xml' )\n",
    "    faces = face_cascade.detectMultiScale( gray, 1.1, 5 )\n",
    "    for ( x, y, w, h ) in faces:\n",
    "        g = cv2.rectangle( g, ( x, y ), ( x + w, y + h ), ( 255, 0, 0 ), 2 )\n",
    "    return g\n",
    "\n",
    "def main( ):\n",
    "    img1 = cv2.imread( \"Akiyo.bmp\", -1 )\n",
    "    img2 = face_detection( img1 )\n",
    "    cv2.imwrite( \"Akiyo_face.bmp\", img2 )\n",
    "\n",
    "main( )"
   ]
  },
  {
   "cell_type": "markdown",
   "metadata": {},
   "source": [
    "SIFT Feature Detection <p>\n",
    "如有 module ‘cv2.cv2’ has no attribute ‘xfeatures2d’ 的錯誤，請參考此網頁資訊 <p>\n",
    "    https://medium.com/@leo81005/%E8%A7%A3%E6%B1%BA-import-cv2-xfeatures2d-%E7%94%A2%E7%94%9F%E9%8C%AF%E8%AA%A4%E7%9A%84%E5%95%8F%E9%A1%8C-56658e652e85\n",
    "    "
   ]
  },
  {
   "cell_type": "code",
   "execution_count": 2,
   "metadata": {},
   "outputs": [],
   "source": [
    "import numpy as np\n",
    "import cv2\n",
    "\n",
    "def SIFT_feature_detection( f ):\n",
    "    g = cv2.cvtColor( f, cv2.COLOR_GRAY2BGR )\n",
    "    sift = cv2.xfeatures2d.SIFT_create()\n",
    "    kp = sift.detect( f, None )\n",
    "    g = cv2.drawKeypoints( f, kp, g )\n",
    "    return g\n",
    "\n",
    "def main( ):\n",
    "    img1 = cv2.imread( \"Blox.bmp\", 0 )\n",
    "    img2 = SIFT_feature_detection( img1 )\n",
    "    cv2.imwrite( \"Blox_SIFT_features.bmp\", img2 )\n",
    "\n",
    "main( )"
   ]
  },
  {
   "cell_type": "markdown",
   "metadata": {},
   "source": [
    "Skin Color Detection <p>\n",
    "<font color=\"Red\">1. 請檢視哪一種色彩空間 (RGB, HSV, YCbCr) 的做法結果比較好？</font><p>\n",
    "<font color=\"Red\">2. 其他兩種可以藉由參數的調整獲得近似的結果嗎？</font> <p> "
   ]
  },
  {
   "cell_type": "code",
   "execution_count": 4,
   "metadata": {},
   "outputs": [],
   "source": [
    "import numpy as np\n",
    "import cv2\n",
    "\n",
    "def skin_color_detection( f, method ):\n",
    "    g = f.copy()\n",
    "    g.fill( 0 )\n",
    "    nr, nc = f.shape[:2]\n",
    "\n",
    "    if method == 1:  # RGB Approach\n",
    "        for x in range( nr ):\n",
    "            for y in range( nc ):\n",
    "                B = int( f[x,y,0] )\n",
    "                G = int( f[x,y,1] )\n",
    "                R = int( f[x,y,2] )\n",
    "                if R > 95 and G > 40 and B > 20 and \\\n",
    "                    max(R,G,B) - min(R,G,B) > 15 and \\\n",
    "                    abs( R- G ) > 15 and R > G and R > B:\n",
    "                    g[x,y,0] = g[x,y,1] = g[x,y,2] = 255\n",
    "\n",
    "    elif method == 2:  # HSV Approach\n",
    "        hsv = cv2.cvtColor( f, cv2.COLOR_BGR2HSV )\n",
    "        for x in range( nr ):\n",
    "            for y in range( nc ):\n",
    "                H = int( hsv[x,y,0] * 2 )\n",
    "                S = float( hsv[x,y,1] / 255 )\n",
    "                if ( ( ( H > 0 and H < 50 ) or \\\n",
    "                       ( H > 320 and H < 360 ) ) and \n",
    "                       ( S > 0.23 and S < 0.68 ) ):\n",
    "                    g[x,y,0] = g[x,y,1] = g[x,y,2] = 255\n",
    "\n",
    "    else:  # YCrCb Approach\n",
    "        ycrcb = cv2.cvtColor( f, cv2.COLOR_BGR2YCrCb )\n",
    "        for x in range( nr ):\n",
    "            for y in range( nc ):\n",
    "                Cr = int( ycrcb[x,y,1] )\n",
    "                Cb = int( ycrcb[x,y,2] )\n",
    "                if ( Cb >= 77 and Cb <= 127 and Cr >= 133 and Cr <= 173 ):\n",
    "                    g[x,y,0] = g[x,y,1] = g[x,y,2] = 255\n",
    "    return g\n",
    "\n",
    "def main( ):\n",
    "    img1 = cv2.imread( \"Thumb_Up.bmp\", -1 )\n",
    "    img2 = skin_color_detection( img1, 1 )\n",
    "    cv2.imwrite( \"Thumb_Up_skin.bmp\", img2 )\n",
    "\n",
    "main( )"
   ]
  },
  {
   "cell_type": "code",
   "execution_count": null,
   "metadata": {},
   "outputs": [],
   "source": []
  },
  {
   "cell_type": "code",
   "execution_count": null,
   "metadata": {},
   "outputs": [],
   "source": []
  }
 ],
 "metadata": {
  "kernelspec": {
   "display_name": "Python 3",
   "language": "python",
   "name": "python3"
  },
  "language_info": {
   "codemirror_mode": {
    "name": "ipython",
    "version": 3
   },
   "file_extension": ".py",
   "mimetype": "text/x-python",
   "name": "python",
   "nbconvert_exporter": "python",
   "pygments_lexer": "ipython3",
   "version": "3.7.7"
  },
  "toc": {
   "base_numbering": 1,
   "nav_menu": {},
   "number_sections": true,
   "sideBar": true,
   "skip_h1_title": false,
   "title_cell": "Table of Contents",
   "title_sidebar": "Contents",
   "toc_cell": false,
   "toc_position": {},
   "toc_section_display": true,
   "toc_window_display": false
  }
 },
 "nbformat": 4,
 "nbformat_minor": 2
}
