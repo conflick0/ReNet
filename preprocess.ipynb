{
 "cells": [
  {
   "cell_type": "code",
   "execution_count": null,
   "metadata": {},
   "outputs": [],
   "source": [
    "import cv2\n",
    "\n",
    "# 選擇第二隻攝影機\n",
    "cap = cv2.VideoCapture('test.avi')\n",
    "\n",
    "i = 0\n",
    "while (True):\n",
    "    # 從攝影機擷取一張影像\n",
    "    ret, frame = cap.read()\n",
    "    if (not ret): break\n",
    "    # 顯示圖片\n",
    "    cv2.imshow('frame', frame)\n",
    "    frame = cv2.cvtColor(frame, cv2.COLOR_BGRA2GRAY)\n",
    "#     cv2.imwrite(f'./data/{i}.bmp', frame)\n",
    "    i+=1\n",
    "    # 若按下 q 鍵則離開迴圈\n",
    "    if cv2.waitKey(1) & 0xFF == ord('q'):\n",
    "        break\n",
    "\n",
    "# 釋放攝影機\n",
    "cap.release()\n",
    "\n",
    "# 關閉所有 OpenCV 視窗\n",
    "cv2.destroyAllWindows()"
   ]
  },
  {
   "cell_type": "code",
   "execution_count": 3,
   "metadata": {},
   "outputs": [
    {
     "ename": "FileNotFoundError",
     "evalue": "[WinError 3] 系統找不到指定的路徑。: './data2'",
     "output_type": "error",
     "traceback": [
      "\u001b[1;31m---------------------------------------------------------------------------\u001b[0m",
      "\u001b[1;31mFileNotFoundError\u001b[0m                         Traceback (most recent call last)",
      "\u001b[1;32m<ipython-input-3-b3a4dc85d03c>\u001b[0m in \u001b[0;36m<module>\u001b[1;34m\u001b[0m\n\u001b[0;32m      7\u001b[0m \u001b[0mpath2\u001b[0m \u001b[1;33m=\u001b[0m \u001b[1;34m\"./anomal\"\u001b[0m\u001b[1;33m\u001b[0m\u001b[1;33m\u001b[0m\u001b[0m\n\u001b[0;32m      8\u001b[0m \u001b[1;33m\u001b[0m\u001b[0m\n\u001b[1;32m----> 9\u001b[1;33m \u001b[0mfiles\u001b[0m \u001b[1;33m=\u001b[0m \u001b[0mlistdir\u001b[0m\u001b[1;33m(\u001b[0m\u001b[0mpath\u001b[0m\u001b[1;33m)\u001b[0m\u001b[1;33m\u001b[0m\u001b[1;33m\u001b[0m\u001b[0m\n\u001b[0m\u001b[0;32m     10\u001b[0m \u001b[1;33m\u001b[0m\u001b[0m\n\u001b[0;32m     11\u001b[0m \u001b[1;32mfor\u001b[0m \u001b[0mi\u001b[0m\u001b[1;33m,\u001b[0m \u001b[0mf\u001b[0m \u001b[1;32min\u001b[0m \u001b[0menumerate\u001b[0m\u001b[1;33m(\u001b[0m\u001b[0mfiles\u001b[0m\u001b[1;33m)\u001b[0m\u001b[1;33m:\u001b[0m\u001b[1;33m\u001b[0m\u001b[1;33m\u001b[0m\u001b[0m\n",
      "\u001b[1;31mFileNotFoundError\u001b[0m: [WinError 3] 系統找不到指定的路徑。: './data2'"
     ]
    }
   ],
   "source": [
    "import cv2\n",
    "from os import listdir\n",
    "from os.path import isfile, isdir, join\n",
    "\n",
    "\n",
    "path = \"./data2\"\n",
    "path2 = \"./anomal\"\n",
    "\n",
    "files = listdir(path)\n",
    "\n",
    "for i, f in enumerate(files):\n",
    "    img = cv2.imread(join(path, f))\n",
    "    cv2.imwrite(join(path2, f'{i}.bmp'), img)"
   ]
  },
  {
   "cell_type": "code",
   "execution_count": 21,
   "metadata": {},
   "outputs": [],
   "source": [
    "import cv2\n",
    "from os import listdir\n",
    "from os.path import isfile, isdir, join\n",
    "\n",
    "\n",
    "path = \"./data/nomal/\"\n",
    "path2 = \"./data2/nomal\"\n",
    "\n",
    "files = listdir(path)\n",
    "\n",
    "stride = 50\n",
    "size = 200\n",
    "n = 0\n",
    "\n",
    "for i, f in enumerate(files):\n",
    "    img = cv2.imread(join(path, f))\n",
    "    h, w, c = img.shape\n",
    "    for x in range((h-size)//stride):\n",
    "        for y in range((w-size)//stride):\n",
    "            z = img[(x*stride) : size + (x*stride), (y*stride) : size + (y*stride)]\n",
    "            cv2.imwrite(join(path2, f'{n}.bmp'), z)\n",
    "            n += 1"
   ]
  }
 ],
 "metadata": {
  "kernelspec": {
   "display_name": "Python 3",
   "language": "python",
   "name": "python3"
  },
  "language_info": {
   "codemirror_mode": {
    "name": "ipython",
    "version": 3
   },
   "file_extension": ".py",
   "mimetype": "text/x-python",
   "name": "python",
   "nbconvert_exporter": "python",
   "pygments_lexer": "ipython3",
   "version": "3.7.7"
  },
  "toc": {
   "base_numbering": 1,
   "nav_menu": {},
   "number_sections": true,
   "sideBar": true,
   "skip_h1_title": false,
   "title_cell": "Table of Contents",
   "title_sidebar": "Contents",
   "toc_cell": false,
   "toc_position": {},
   "toc_section_display": true,
   "toc_window_display": false
  }
 },
 "nbformat": 4,
 "nbformat_minor": 4
}
